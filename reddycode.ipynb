{
 "cells": [
  {
   "cell_type": "markdown",
   "id": "a0bea559",
   "metadata": {},
   "source": [
    "## Importing the libraries"
   ]
  },
  {
   "cell_type": "code",
   "execution_count": 1,
   "id": "570c84e6",
   "metadata": {},
   "outputs": [],
   "source": [
    "# Numpy is used for numerical computations and working with arrays\n",
    "import numpy as np\n",
    "#Pandas is used for data manipulation and analysis\n",
    "import pandas as pd"
   ]
  },
  {
   "cell_type": "markdown",
   "id": "35f4252f",
   "metadata": {},
   "source": [
    "## Data Loading"
   ]
  },
  {
   "cell_type": "code",
   "execution_count": 2,
   "id": "f1d3f14d",
   "metadata": {},
   "outputs": [],
   "source": [
    "# Read the CSV Dataset file\n",
    "df = pd.read_csv('Restaurant_Reviews.csv')"
   ]
  },
  {
   "cell_type": "markdown",
   "id": "698c2bf6",
   "metadata": {},
   "source": [
    "## Data Analysis"
   ]
  },
  {
   "cell_type": "code",
   "execution_count": 3,
   "id": "c63128e9",
   "metadata": {},
   "outputs": [
    {
     "data": {
      "text/plain": [
       "(1000, 2)"
      ]
     },
     "execution_count": 3,
     "metadata": {},
     "output_type": "execute_result"
    }
   ],
   "source": [
    "df.shape"
   ]
  },
  {
   "cell_type": "code",
   "execution_count": 4,
   "id": "feb8f9aa",
   "metadata": {},
   "outputs": [
    {
     "data": {
      "text/plain": [
       "Index(['Review', 'Liked'], dtype='object')"
      ]
     },
     "execution_count": 4,
     "metadata": {},
     "output_type": "execute_result"
    }
   ],
   "source": [
    "df.columns"
   ]
  },
  {
   "cell_type": "code",
   "execution_count": 5,
   "id": "6d909087",
   "metadata": {},
   "outputs": [
    {
     "data": {
      "text/html": [
       "<div>\n",
       "<style scoped>\n",
       "    .dataframe tbody tr th:only-of-type {\n",
       "        vertical-align: middle;\n",
       "    }\n",
       "\n",
       "    .dataframe tbody tr th {\n",
       "        vertical-align: top;\n",
       "    }\n",
       "\n",
       "    .dataframe thead th {\n",
       "        text-align: right;\n",
       "    }\n",
       "</style>\n",
       "<table border=\"1\" class=\"dataframe\">\n",
       "  <thead>\n",
       "    <tr style=\"text-align: right;\">\n",
       "      <th></th>\n",
       "      <th>Review</th>\n",
       "      <th>Liked</th>\n",
       "    </tr>\n",
       "  </thead>\n",
       "  <tbody>\n",
       "    <tr>\n",
       "      <th>0</th>\n",
       "      <td>Wow... Loved this place.</td>\n",
       "      <td>1</td>\n",
       "    </tr>\n",
       "    <tr>\n",
       "      <th>1</th>\n",
       "      <td>Crust is not good.</td>\n",
       "      <td>0</td>\n",
       "    </tr>\n",
       "    <tr>\n",
       "      <th>2</th>\n",
       "      <td>Not tasty and the texture was just nasty.</td>\n",
       "      <td>0</td>\n",
       "    </tr>\n",
       "    <tr>\n",
       "      <th>3</th>\n",
       "      <td>Stopped by during the late May bank holiday of...</td>\n",
       "      <td>1</td>\n",
       "    </tr>\n",
       "    <tr>\n",
       "      <th>4</th>\n",
       "      <td>The selection on the menu was great and so wer...</td>\n",
       "      <td>1</td>\n",
       "    </tr>\n",
       "  </tbody>\n",
       "</table>\n",
       "</div>"
      ],
      "text/plain": [
       "                                              Review  Liked\n",
       "0                           Wow... Loved this place.      1\n",
       "1                                 Crust is not good.      0\n",
       "2          Not tasty and the texture was just nasty.      0\n",
       "3  Stopped by during the late May bank holiday of...      1\n",
       "4  The selection on the menu was great and so wer...      1"
      ]
     },
     "execution_count": 5,
     "metadata": {},
     "output_type": "execute_result"
    }
   ],
   "source": [
    "df.head()"
   ]
  },
  {
   "cell_type": "code",
   "execution_count": 6,
   "id": "695e8384",
   "metadata": {},
   "outputs": [
    {
     "data": {
      "text/html": [
       "<div>\n",
       "<style scoped>\n",
       "    .dataframe tbody tr th:only-of-type {\n",
       "        vertical-align: middle;\n",
       "    }\n",
       "\n",
       "    .dataframe tbody tr th {\n",
       "        vertical-align: top;\n",
       "    }\n",
       "\n",
       "    .dataframe thead th {\n",
       "        text-align: right;\n",
       "    }\n",
       "</style>\n",
       "<table border=\"1\" class=\"dataframe\">\n",
       "  <thead>\n",
       "    <tr style=\"text-align: right;\">\n",
       "      <th></th>\n",
       "      <th>Review</th>\n",
       "      <th>Liked</th>\n",
       "    </tr>\n",
       "  </thead>\n",
       "  <tbody>\n",
       "    <tr>\n",
       "      <th>995</th>\n",
       "      <td>I think food should have flavor and texture an...</td>\n",
       "      <td>0</td>\n",
       "    </tr>\n",
       "    <tr>\n",
       "      <th>996</th>\n",
       "      <td>Appetite instantly gone.</td>\n",
       "      <td>0</td>\n",
       "    </tr>\n",
       "    <tr>\n",
       "      <th>997</th>\n",
       "      <td>Overall I was not impressed and would not go b...</td>\n",
       "      <td>0</td>\n",
       "    </tr>\n",
       "    <tr>\n",
       "      <th>998</th>\n",
       "      <td>The whole experience was underwhelming, and I ...</td>\n",
       "      <td>0</td>\n",
       "    </tr>\n",
       "    <tr>\n",
       "      <th>999</th>\n",
       "      <td>Then, as if I hadn't wasted enough of my life ...</td>\n",
       "      <td>0</td>\n",
       "    </tr>\n",
       "  </tbody>\n",
       "</table>\n",
       "</div>"
      ],
      "text/plain": [
       "                                                Review  Liked\n",
       "995  I think food should have flavor and texture an...      0\n",
       "996                           Appetite instantly gone.      0\n",
       "997  Overall I was not impressed and would not go b...      0\n",
       "998  The whole experience was underwhelming, and I ...      0\n",
       "999  Then, as if I hadn't wasted enough of my life ...      0"
      ]
     },
     "execution_count": 6,
     "metadata": {},
     "output_type": "execute_result"
    }
   ],
   "source": [
    "df.tail()"
   ]
  },
  {
   "cell_type": "code",
   "execution_count": 7,
   "id": "ee575259",
   "metadata": {
    "scrolled": true
   },
   "outputs": [
    {
     "name": "stdout",
     "output_type": "stream",
     "text": [
      "<class 'pandas.core.frame.DataFrame'>\n",
      "RangeIndex: 1000 entries, 0 to 999\n",
      "Data columns (total 2 columns):\n",
      " #   Column  Non-Null Count  Dtype \n",
      "---  ------  --------------  ----- \n",
      " 0   Review  1000 non-null   object\n",
      " 1   Liked   1000 non-null   int64 \n",
      "dtypes: int64(1), object(1)\n",
      "memory usage: 15.8+ KB\n"
     ]
    }
   ],
   "source": [
    "df.info()"
   ]
  },
  {
   "cell_type": "code",
   "execution_count": 8,
   "id": "911a5162",
   "metadata": {},
   "outputs": [
    {
     "data": {
      "text/html": [
       "<div>\n",
       "<style scoped>\n",
       "    .dataframe tbody tr th:only-of-type {\n",
       "        vertical-align: middle;\n",
       "    }\n",
       "\n",
       "    .dataframe tbody tr th {\n",
       "        vertical-align: top;\n",
       "    }\n",
       "\n",
       "    .dataframe thead th {\n",
       "        text-align: right;\n",
       "    }\n",
       "</style>\n",
       "<table border=\"1\" class=\"dataframe\">\n",
       "  <thead>\n",
       "    <tr style=\"text-align: right;\">\n",
       "      <th></th>\n",
       "      <th>Liked</th>\n",
       "    </tr>\n",
       "  </thead>\n",
       "  <tbody>\n",
       "    <tr>\n",
       "      <th>count</th>\n",
       "      <td>1000.00000</td>\n",
       "    </tr>\n",
       "    <tr>\n",
       "      <th>mean</th>\n",
       "      <td>0.50000</td>\n",
       "    </tr>\n",
       "    <tr>\n",
       "      <th>std</th>\n",
       "      <td>0.50025</td>\n",
       "    </tr>\n",
       "    <tr>\n",
       "      <th>min</th>\n",
       "      <td>0.00000</td>\n",
       "    </tr>\n",
       "    <tr>\n",
       "      <th>25%</th>\n",
       "      <td>0.00000</td>\n",
       "    </tr>\n",
       "    <tr>\n",
       "      <th>50%</th>\n",
       "      <td>0.50000</td>\n",
       "    </tr>\n",
       "    <tr>\n",
       "      <th>75%</th>\n",
       "      <td>1.00000</td>\n",
       "    </tr>\n",
       "    <tr>\n",
       "      <th>max</th>\n",
       "      <td>1.00000</td>\n",
       "    </tr>\n",
       "  </tbody>\n",
       "</table>\n",
       "</div>"
      ],
      "text/plain": [
       "            Liked\n",
       "count  1000.00000\n",
       "mean      0.50000\n",
       "std       0.50025\n",
       "min       0.00000\n",
       "25%       0.00000\n",
       "50%       0.50000\n",
       "75%       1.00000\n",
       "max       1.00000"
      ]
     },
     "execution_count": 8,
     "metadata": {},
     "output_type": "execute_result"
    }
   ],
   "source": [
    "df.describe()"
   ]
  },
  {
   "cell_type": "code",
   "execution_count": 9,
   "id": "44766966",
   "metadata": {},
   "outputs": [
    {
     "data": {
      "text/html": [
       "<div>\n",
       "<style scoped>\n",
       "    .dataframe tbody tr th:only-of-type {\n",
       "        vertical-align: middle;\n",
       "    }\n",
       "\n",
       "    .dataframe tbody tr th {\n",
       "        vertical-align: top;\n",
       "    }\n",
       "\n",
       "    .dataframe thead th {\n",
       "        text-align: right;\n",
       "    }\n",
       "</style>\n",
       "<table border=\"1\" class=\"dataframe\">\n",
       "  <thead>\n",
       "    <tr style=\"text-align: right;\">\n",
       "      <th></th>\n",
       "      <th>Review</th>\n",
       "      <th>Liked</th>\n",
       "    </tr>\n",
       "  </thead>\n",
       "  <tbody>\n",
       "    <tr>\n",
       "      <th>416</th>\n",
       "      <td>But now I was completely grossed out.</td>\n",
       "      <td>0</td>\n",
       "    </tr>\n",
       "    <tr>\n",
       "      <th>382</th>\n",
       "      <td>The service was outshining &amp; I definitely reco...</td>\n",
       "      <td>1</td>\n",
       "    </tr>\n",
       "    <tr>\n",
       "      <th>690</th>\n",
       "      <td>It was absolutely amazing.</td>\n",
       "      <td>1</td>\n",
       "    </tr>\n",
       "    <tr>\n",
       "      <th>764</th>\n",
       "      <td>I'm so happy to be here!!!\"</td>\n",
       "      <td>1</td>\n",
       "    </tr>\n",
       "    <tr>\n",
       "      <th>265</th>\n",
       "      <td>Plus, it's only 8 bucks.</td>\n",
       "      <td>1</td>\n",
       "    </tr>\n",
       "  </tbody>\n",
       "</table>\n",
       "</div>"
      ],
      "text/plain": [
       "                                                Review  Liked\n",
       "416              But now I was completely grossed out.      0\n",
       "382  The service was outshining & I definitely reco...      1\n",
       "690                         It was absolutely amazing.      1\n",
       "764                        I'm so happy to be here!!!\"      1\n",
       "265                           Plus, it's only 8 bucks.      1"
      ]
     },
     "execution_count": 9,
     "metadata": {},
     "output_type": "execute_result"
    }
   ],
   "source": [
    "df.sample(5)"
   ]
  },
  {
   "cell_type": "code",
   "execution_count": 10,
   "id": "8e23067d",
   "metadata": {},
   "outputs": [
    {
     "data": {
      "text/plain": [
       "Review    0\n",
       "Liked     0\n",
       "dtype: int64"
      ]
     },
     "execution_count": 10,
     "metadata": {},
     "output_type": "execute_result"
    }
   ],
   "source": [
    "df.isnull().sum()"
   ]
  },
  {
   "cell_type": "code",
   "execution_count": 11,
   "id": "8e2a8400",
   "metadata": {},
   "outputs": [
    {
     "data": {
      "text/plain": [
       "1    500\n",
       "0    500\n",
       "Name: Liked, dtype: int64"
      ]
     },
     "execution_count": 11,
     "metadata": {},
     "output_type": "execute_result"
    }
   ],
   "source": [
    "df['Liked'].value_counts()"
   ]
  },
  {
   "cell_type": "markdown",
   "id": "e1b37a8c",
   "metadata": {},
   "source": [
    "# Feature Engineering"
   ]
  },
  {
   "cell_type": "code",
   "execution_count": 12,
   "id": "6ad7a76c",
   "metadata": {},
   "outputs": [
    {
     "data": {
      "text/html": [
       "<div>\n",
       "<style scoped>\n",
       "    .dataframe tbody tr th:only-of-type {\n",
       "        vertical-align: middle;\n",
       "    }\n",
       "\n",
       "    .dataframe tbody tr th {\n",
       "        vertical-align: top;\n",
       "    }\n",
       "\n",
       "    .dataframe thead th {\n",
       "        text-align: right;\n",
       "    }\n",
       "</style>\n",
       "<table border=\"1\" class=\"dataframe\">\n",
       "  <thead>\n",
       "    <tr style=\"text-align: right;\">\n",
       "      <th></th>\n",
       "      <th>Review</th>\n",
       "      <th>Liked</th>\n",
       "      <th>Length</th>\n",
       "    </tr>\n",
       "  </thead>\n",
       "  <tbody>\n",
       "    <tr>\n",
       "      <th>0</th>\n",
       "      <td>Wow... Loved this place.</td>\n",
       "      <td>1</td>\n",
       "      <td>24</td>\n",
       "    </tr>\n",
       "    <tr>\n",
       "      <th>1</th>\n",
       "      <td>Crust is not good.</td>\n",
       "      <td>0</td>\n",
       "      <td>18</td>\n",
       "    </tr>\n",
       "    <tr>\n",
       "      <th>2</th>\n",
       "      <td>Not tasty and the texture was just nasty.</td>\n",
       "      <td>0</td>\n",
       "      <td>41</td>\n",
       "    </tr>\n",
       "    <tr>\n",
       "      <th>3</th>\n",
       "      <td>Stopped by during the late May bank holiday of...</td>\n",
       "      <td>1</td>\n",
       "      <td>87</td>\n",
       "    </tr>\n",
       "    <tr>\n",
       "      <th>4</th>\n",
       "      <td>The selection on the menu was great and so wer...</td>\n",
       "      <td>1</td>\n",
       "      <td>59</td>\n",
       "    </tr>\n",
       "  </tbody>\n",
       "</table>\n",
       "</div>"
      ],
      "text/plain": [
       "                                              Review  Liked  Length\n",
       "0                           Wow... Loved this place.      1      24\n",
       "1                                 Crust is not good.      0      18\n",
       "2          Not tasty and the texture was just nasty.      0      41\n",
       "3  Stopped by during the late May bank holiday of...      1      87\n",
       "4  The selection on the menu was great and so wer...      1      59"
      ]
     },
     "execution_count": 12,
     "metadata": {},
     "output_type": "execute_result"
    }
   ],
   "source": [
    "df['Length'] = df['Review'].apply(len)\n",
    "df.head(5)"
   ]
  },
  {
   "cell_type": "markdown",
   "id": "b79f3997",
   "metadata": {},
   "source": [
    "# Data Preprocessing"
   ]
  },
  {
   "cell_type": "code",
   "execution_count": 13,
   "id": "646e9ac1",
   "metadata": {},
   "outputs": [
    {
     "name": "stderr",
     "output_type": "stream",
     "text": [
      "[nltk_data] Downloading package stopwords to\n",
      "[nltk_data]     C:\\Users\\SATEESH\\AppData\\Roaming\\nltk_data...\n",
      "[nltk_data]   Package stopwords is already up-to-date!\n"
     ]
    }
   ],
   "source": [
    "# Importing the NLP Libraries\n",
    "import nltk\n",
    "import re\n",
    "# Download NLTK stopwords data\n",
    "nltk.download('stopwords')\n",
    "from nltk.corpus import stopwords\n",
    "from nltk.stem.porter import PorterStemmer \n",
    "from nltk.stem.snowball import SnowballStemmer\n",
    "stemmer = SnowballStemmer('english')"
   ]
  },
  {
   "cell_type": "code",
   "execution_count": 14,
   "id": "98133f38",
   "metadata": {},
   "outputs": [
    {
     "name": "stdout",
     "output_type": "stream",
     "text": [
      "['i', 'me', 'my', 'myself', 'we', 'our', 'ours', 'ourselves', 'you', \"you're\", \"you've\", \"you'll\", \"you'd\", 'your', 'yours', 'yourself', 'yourselves', 'he', 'him', 'his', 'himself', 'she', \"she's\", 'her', 'hers', 'herself', 'it', \"it's\", 'its', 'itself', 'they', 'them', 'their', 'theirs', 'themselves', 'what', 'which', 'who', 'whom', 'this', 'that', \"that'll\", 'these', 'those', 'am', 'is', 'are', 'was', 'were', 'be', 'been', 'being', 'have', 'has', 'had', 'having', 'do', 'does', 'did', 'doing', 'a', 'an', 'the', 'and', 'but', 'if', 'or', 'because', 'as', 'until', 'while', 'of', 'at', 'by', 'for', 'with', 'about', 'against', 'between', 'into', 'through', 'during', 'before', 'after', 'above', 'below', 'to', 'from', 'up', 'down', 'in', 'out', 'on', 'off', 'over', 'under', 'again', 'further', 'then', 'once', 'here', 'there', 'when', 'where', 'why', 'how', 'all', 'any', 'both', 'each', 'few', 'more', 'most', 'other', 'some', 'such', 'no', 'nor', 'not', 'only', 'own', 'same', 'so', 'than', 'too', 'very', 's', 't', 'can', 'will', 'just', 'don', \"don't\", 'should', \"should've\", 'now', 'd', 'll', 'm', 'o', 're', 've', 'y', 'ain', 'aren', \"aren't\", 'couldn', \"couldn't\", 'didn', \"didn't\", 'doesn', \"doesn't\", 'hadn', \"hadn't\", 'hasn', \"hasn't\", 'haven', \"haven't\", 'isn', \"isn't\", 'ma', 'mightn', \"mightn't\", 'mustn', \"mustn't\", 'needn', \"needn't\", 'shan', \"shan't\", 'shouldn', \"shouldn't\", 'wasn', \"wasn't\", 'weren', \"weren't\", 'won', \"won't\", 'wouldn', \"wouldn't\"]\n"
     ]
    }
   ],
   "source": [
    "print(list(stopwords.words('english')))"
   ]
  },
  {
   "cell_type": "code",
   "execution_count": 15,
   "id": "fdf3f7b2",
   "metadata": {},
   "outputs": [],
   "source": [
    "# Cleaning the Reviews and Creating a Corpus\n",
    "corpus = []  # Initialize an empty list to store the cleaned reviews.\n",
    "\n",
    "# Loop through each review\n",
    "for i in range(len(df)):\n",
    "    # Clean and preprocess the review\n",
    "    review = re.sub('[^a-zA-Z]', ' ', df['Review'][i])  # Remove non-alphabetical characters\n",
    "    review = review.lower()  # Convert text to lowercase\n",
    "    review_words = review.split()  # Tokenization\n",
    "    review_words = [word for word in review_words if word not in set(stopwords.words('english'))]  # Remove Stop Words\n",
    "    review_words = [stemmer.stem(word) for word in review_words]  # Stemming\n",
    "    review = ' '.join(review_words)  # Rejoin Tokens\n",
    "    corpus.append(review)  # Append to Corpus"
   ]
  },
  {
   "cell_type": "code",
   "execution_count": 16,
   "id": "6eedad33",
   "metadata": {},
   "outputs": [
    {
     "data": {
      "text/plain": [
       "['wow love place',\n",
       " 'crust good',\n",
       " 'tasti textur nasti',\n",
       " 'stop late may bank holiday rick steve recommend love',\n",
       " 'select menu great price',\n",
       " 'get angri want damn pho',\n",
       " 'honeslti tast fresh',\n",
       " 'potato like rubber could tell made ahead time kept warmer',\n",
       " 'fri great',\n",
       " 'great touch']"
      ]
     },
     "execution_count": 16,
     "metadata": {},
     "output_type": "execute_result"
    }
   ],
   "source": [
    "corpus[:10]"
   ]
  },
  {
   "cell_type": "markdown",
   "id": "c61ceacc",
   "metadata": {},
   "source": [
    "# Creating a Bag of Words Model"
   ]
  },
  {
   "cell_type": "code",
   "execution_count": 17,
   "id": "b44de209",
   "metadata": {},
   "outputs": [],
   "source": [
    "from sklearn.feature_extraction.text import TfidfVectorizer\n",
    "tf = TfidfVectorizer(max_features=1500, min_df=2)\n",
    "x = tf.fit_transform(corpus).toarray() # Transform the text data into TF-IDF features\n",
    "X = tf.fit_transform(corpus).toarray()\n",
    "y = df['Liked'].values\n",
    "Y = df['Liked'].values"
   ]
  },
  {
   "cell_type": "markdown",
   "id": "291d058d",
   "metadata": {},
   "source": [
    "# Data Splitting"
   ]
  },
  {
   "cell_type": "code",
   "execution_count": 18,
   "id": "e04f99fe",
   "metadata": {},
   "outputs": [],
   "source": [
    "from sklearn.model_selection import train_test_split, KFold\n",
    "X_train, X_test, y_train, y_test = train_test_split(X, y, test_size=0.2, random_state=41)"
   ]
  },
  {
   "cell_type": "code",
   "execution_count": 19,
   "id": "d054a59d",
   "metadata": {},
   "outputs": [
    {
     "data": {
      "text/plain": [
       "((800, 693), (200, 693), (800,), (200,))"
      ]
     },
     "execution_count": 19,
     "metadata": {},
     "output_type": "execute_result"
    }
   ],
   "source": [
    "X_train.shape, X_test.shape, y_train.shape, y_test.shape"
   ]
  },
  {
   "cell_type": "code",
   "execution_count": 20,
   "id": "c858c68c",
   "metadata": {},
   "outputs": [],
   "source": [
    "from sklearn.metrics import accuracy_score\n",
    "from sklearn.metrics import classification_report, accuracy_score"
   ]
  },
  {
   "cell_type": "markdown",
   "id": "5b4f4057",
   "metadata": {},
   "source": [
    "# Model Training"
   ]
  },
  {
   "cell_type": "code",
   "execution_count": 21,
   "id": "d816497b",
   "metadata": {},
   "outputs": [],
   "source": [
    "from sklearn.ensemble import RandomForestClassifier\n",
    "from sklearn.svm import SVC\n",
    "from sklearn.metrics import confusion_matrix\n",
    "\n",
    "# Model-1: Random Forest\n",
    "rf_model = RandomForestClassifier(n_estimators=100, max_depth=6, min_samples_split=4, min_samples_leaf=2, random_state=41)\n",
    "num_folds = 11\n",
    "kf = KFold(n_splits=num_folds, shuffle=True, random_state=41)\n",
    "\n",
    "train_accuracies_rf = []\n",
    "test_accuracies_rf = []\n",
    "\n",
    "for train_index, test_index in kf.split(X):\n",
    "    X_train_rf, X_test_rf = X[train_index], X[test_index]\n",
    "    y_train_rf, y_test_rf = y[train_index], y[test_index]  # Use 'y' consistently\n",
    "\n",
    "    rf_model.fit(X_train_rf, y_train_rf)\n",
    "    y_train_pred_rf = rf_model.predict(X_train_rf)\n",
    "    y_test_pred_rf = rf_model.predict(X_test_rf)\n",
    "\n",
    "    train_accuracy_rf = accuracy_score(y_train_rf, y_train_pred_rf)\n",
    "    test_accuracy_rf = accuracy_score(y_test_rf, y_test_pred_rf)\n",
    "\n",
    "    train_accuracies_rf.append(train_accuracy_rf)\n",
    "    test_accuracies_rf.append(test_accuracy_rf)\n",
    "\n",
    "average_train_accuracy_rf = np.mean(train_accuracies_rf)\n",
    "average_test_accuracy_rf = np.mean(test_accuracies_rf)\n",
    "accuracy_difference_rf = abs(average_train_accuracy_rf - average_test_accuracy_rf)\n",
    "\n",
    "\n",
    "# Model-2: Support Vector Classifier (SVC)\n",
    "classifier = SVC(kernel='linear', C=0.1, random_state=42)\n",
    "\n",
    "train_accuracies_svc = []\n",
    "test_accuracies_svc = []\n",
    "\n",
    "classifier.fit(X_train, y_train)\n",
    "y_train_pred_svc = classifier.predict(X_train)\n",
    "y_test_pred_svc = classifier.predict(X_test)\n",
    "\n",
    "test_accuracy_svc = accuracy_score(y_test, y_test_pred_svc)\n",
    "train_accuracy_svc = accuracy_score(y_train, y_train_pred_svc)\n",
    "\n",
    "train_accuracies_svc.append(train_accuracy_svc)\n",
    "test_accuracies_svc.append(test_accuracy_svc)\n",
    "\n",
    "average_train_accuracy_svc = np.mean(train_accuracies_svc)\n",
    "average_test_accuracy_svc = np.mean(test_accuracies_svc)\n",
    "accuracy_difference_svc = abs(average_train_accuracy_svc - average_test_accuracy_svc)\n"
   ]
  },
  {
   "cell_type": "markdown",
   "id": "f2352939",
   "metadata": {},
   "source": [
    "\n",
    "# Model Evaluation"
   ]
  },
  {
   "cell_type": "code",
   "execution_count": 22,
   "id": "1a3b5a64",
   "metadata": {},
   "outputs": [
    {
     "name": "stdout",
     "output_type": "stream",
     "text": [
      "model-1 : Random Forest\n",
      "Training Accuracy: 80.53%\n",
      "Testing Accuracy: 74.31%\n",
      "Accuracy Difference: 6.22%\n",
      "---------\n",
      "Confusion Matrix of RandomForest :\n",
      "[[98  5]\n",
      " [28 69]]\n",
      "=========\n",
      "model-2 : SVC\n",
      "Training Accuracy: 80.00%\n",
      "Testing Accuracy: 78.00%\n",
      "Accuracy Difference: 2.00%\n",
      "---------\n",
      "Confusion Matrix of SVC\n",
      "[[95  8]\n",
      " [36 61]]\n",
      "=========\n"
     ]
    }
   ],
   "source": [
    "print(\"model-1 : Random Forest\")\n",
    "print(f\"Training Accuracy: {average_train_accuracy_rf * 100:.2f}%\")\n",
    "print(f\"Testing Accuracy: {average_test_accuracy_rf * 100:.2f}%\")\n",
    "print(\"Accuracy Difference: {:.2f}%\".format(accuracy_difference_rf * 100))\n",
    "print(\"---\" * 3)\n",
    "print(\"Confusion Matrix of RandomForest :\")\n",
    "confusion_matrix_rf = confusion_matrix(y_test, rf_model.predict(X_test))\n",
    "print(confusion_matrix_rf)\n",
    "print(\"===\" * 3)\n",
    "\n",
    "print(\"model-2 : SVC\")\n",
    "print(f\"Training Accuracy: {average_train_accuracy_svc * 100:.2f}%\")\n",
    "print(f\"Testing Accuracy: {average_test_accuracy_svc * 100:.2f}%\")\n",
    "print(\"Accuracy Difference: {:.2f}%\".format(accuracy_difference_svc * 100))\n",
    "print(\"---\" * 3)\n",
    "print(\"Confusion Matrix of SVC\")\n",
    "confusion_matrix_svc = confusion_matrix(y_test, y_test_pred_svc)\n",
    "print(confusion_matrix_svc)\n",
    "print(\"===\" * 3)\n"
   ]
  },
  {
   "cell_type": "markdown",
   "id": "f49a0b31",
   "metadata": {},
   "source": [
    "# Predictions"
   ]
  },
  {
   "cell_type": "code",
   "execution_count": 23,
   "id": "a0ce8ed7",
   "metadata": {},
   "outputs": [],
   "source": [
    "def predict_sentiment(sample_review, classifier, tf):    \n",
    "    X =  tf.transform([review]).toarray()\n",
    "    # Use the pre-trained classifier to predict sentiment\n",
    "    sentiment = classifier.predict(X)\n",
    "\n",
    "    # Post-processing: Check for positive words\n",
    "    positive_words = [\"good\", \"excellent\", \"amazing\", \"delicious\"]  # Add more positive words as needed\n",
    "    for word in positive_words:\n",
    "        if word in sample_review.lower():\n",
    "            sentiment = [1]  # Override sentiment to positive\n",
    "\n",
    "    return sentiment[0]"
   ]
  },
  {
   "cell_type": "code",
   "execution_count": 24,
   "id": "95b6851f",
   "metadata": {},
   "outputs": [
    {
     "name": "stdout",
     "output_type": "stream",
     "text": [
      "Review: 'The food is really bad.'\n",
      "Sentiment: NEGATIVE\n",
      "\n",
      "Review: 'I love their delicious dishes!'\n",
      "Sentiment: POSITIVE\n",
      "\n",
      "Review: 'Terrible experience. Avoid this place.'\n",
      "Sentiment: NEGATIVE\n",
      "\n",
      "Review: 'The service was excellent.'\n",
      "Sentiment: POSITIVE\n",
      "\n",
      "Review: 'Worst place ever, but nice food'\n",
      "Sentiment: NEGATIVE\n",
      "\n"
     ]
    }
   ],
   "source": [
    "# Sample reviews as strings\n",
    "reviews = [\n",
    "    'The food is really bad.',\n",
    "    'I love their delicious dishes!',\n",
    "    'Terrible experience. Avoid this place.',\n",
    "    'The service was excellent.',\n",
    "    'Worst place ever, but nice food'\n",
    "]\n",
    "\n",
    "# Assuming you have already defined the 'predict_sentiment' function, classifier, and tf\n",
    "\n",
    "for review in reviews:\n",
    "    sentiment = predict_sentiment(review, classifier, tf)\n",
    "    if sentiment:\n",
    "        sentiment_label = 'POSITIVE'\n",
    "    else:\n",
    "        sentiment_label = 'NEGATIVE'\n",
    "\n",
    "    print(f\"Review: '{review}'\")\n",
    "    print(f\"Sentiment: {sentiment_label}\")\n",
    "    print()\n"
   ]
  }
 ],
 "metadata": {
  "kernelspec": {
   "display_name": "Python 3 (ipykernel)",
   "language": "python",
   "name": "python3"
  },
  "language_info": {
   "codemirror_mode": {
    "name": "ipython",
    "version": 3
   },
   "file_extension": ".py",
   "mimetype": "text/x-python",
   "name": "python",
   "nbconvert_exporter": "python",
   "pygments_lexer": "ipython3",
   "version": "3.9.12"
  }
 },
 "nbformat": 4,
 "nbformat_minor": 5
}
